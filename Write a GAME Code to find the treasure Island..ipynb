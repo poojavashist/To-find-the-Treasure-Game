{
 "cells": [
  {
   "cell_type": "code",
   "execution_count": 59,
   "metadata": {},
   "outputs": [
    {
     "name": "stdout",
     "output_type": "stream",
     "text": [
      "\n",
      "\n",
      "\n",
      "*******************************************************************************\n",
      "          |                   |                  |                     |\n",
      " _________|________________.=\"\"_;=.______________|_____________________|_______\n",
      "|                   |  ,-\"_,=\"\"     `\"=.|                  |\n",
      "|___________________|__\"=._o`\"-._        `\"=.______________|___________________\n",
      "          |                `\"=._o`\"=._      _`\"=._                     |\n",
      " _________|_____________________:=._o \"=._.\"_.-=\"'\"=.__________________|_______\n",
      "|                   |    __.--\" , ; `\"=._o.\" ,-\"\"\"-._ \".   |\n",
      "|___________________|_._\"  ,. .` ` `` ,  `\"-._\"-._   \". '__|___________________\n",
      "          |           |o`\"=._` , \"` `; .\". ,  \"-._\"-._; ;              |\n",
      " _________|___________| ;`-.o`\"=._; .\" ` '`.\"\\` . \"-._ /_______________|_______\n",
      "|                   | |o;    `\"-.o`\"=._``  '` \" ,__.--o;   |\n",
      "|___________________|_| ;     (#) `-.o `\"=.`_.--\"_o.-; ;___|___________________\n",
      "____/______/______/___|o;._    \"      `\".o|o_.--\"    ;o;____/______/______/____\n",
      "/______/______/______/_\"=._o--._        ; | ;        ; ;/______/______/______/_\n",
      "____/______/______/______/__\"=._o--._   ;o|o;     _._;o;____/______/______/____\n",
      "/______/______/______/______/____\"=._o._; | ;_.--\"o.--\"_/______/______/______/_\n",
      "____/______/______/______/______/_____\"=.o|o_.--\"\"___/______/______/______/____\n",
      "/______/______/______/______/______/______/______/______/______/______/_______]\n",
      "*******************************************************************************\n",
      "\n",
      "Welcome to the Treasure Island.\n",
      "\n",
      "\n",
      "Your mission is to find the Treasure.\n",
      "\n",
      " \n",
      "You are at the crossroad where do you want to go? type \"left\" or \"right\".  :left\n",
      "You have come to a lake. There is an island in the middle of the lake. Type \"wait\" to wait for a boat.Type \"swim\" to swim across : wait\n",
      "You are arrived at the island unharmed. There is a huse with a 3 doors One red,one yellow, one blue. Which colour do you want to choose? yellow\n",
      "you found the treasure YOU WIN ! \n"
     ]
    }
   ],
   "source": [
    "\n",
    "print('''\n",
    "\n",
    "\n",
    "*******************************************************************************\n",
    "          |                   |                  |                     |\n",
    " _________|________________.=\"\"_;=.______________|_____________________|_______\n",
    "|                   |  ,-\"_,=\"\"     `\"=.|                  |\n",
    "|___________________|__\"=._o`\"-._        `\"=.______________|___________________\n",
    "          |                `\"=._o`\"=._      _`\"=._                     |\n",
    " _________|_____________________:=._o \"=._.\"_.-=\"'\"=.__________________|_______\n",
    "|                   |    __.--\" , ; `\"=._o.\" ,-\"\"\"-._ \".   |\n",
    "|___________________|_._\"  ,. .` ` `` ,  `\"-._\"-._   \". '__|___________________\n",
    "          |           |o`\"=._` , \"` `; .\". ,  \"-._\"-._; ;              |\n",
    " _________|___________| ;`-.o`\"=._; .\" ` '`.\"\\` . \"-._ /_______________|_______\n",
    "|                   | |o;    `\"-.o`\"=._``  '` \" ,__.--o;   |\n",
    "|___________________|_| ;     (#) `-.o `\"=.`_.--\"_o.-; ;___|___________________\n",
    "____/______/______/___|o;._    \"      `\".o|o_.--\"    ;o;____/______/______/____\n",
    "/______/______/______/_\"=._o--._        ; | ;        ; ;/______/______/______/_\n",
    "____/______/______/______/__\"=._o--._   ;o|o;     _._;o;____/______/______/____\n",
    "/______/______/______/______/____\"=._o._; | ;_.--\"o.--\"_/______/______/______/_\n",
    "____/______/______/______/______/_____\"=.o|o_.--\"\"___/______/______/______/____\n",
    "/______/______/______/______/______/______/______/______/______/______/_______]\n",
    "*******************************************************************************\n",
    "''')\n",
    "print(\"Welcome to the Treasure Island.\\n\\n\")\n",
    "print(\"Your mission is to find the Treasure.\\n\\n \")\n",
    "choice1 = input('You are at the crossroad where do you want to go? type \"left\" or \"right\".  :').lower()\n",
    "\n",
    "if choice1 == \"left\":\n",
    "    choice2 = input('You have come to a lake. There is an island in the middle of the lake. Type \"wait\" to wait for a boat.Type \"swim\" to swim across : ').lower()\n",
    "    if choice2 == \"wait\":\n",
    "        choice3 = input(\"You are arrived at the island unharmed. There is a huse with a 3 doors One red,one yellow, one blue. Which colour do you want to choose? \").lower()\n",
    "        if choice3 == \"red\":\n",
    "            print(\"room full of fire\")\n",
    "        elif choice3 == \"yellow\":\n",
    "            print(\"you found the treasure YOU WIN ! \")\n",
    "        elif choice3 ==\"blue\":\n",
    "            print(\"you enter the room in DANGER. GAME OVER\")\n",
    "    else:\n",
    "            print(\"You choose the door doesn't exist. GAME OVER.\")\n",
    "else:\n",
    "    print(\"you got attacked by an engry trout. Game Over\")\n",
    "   # else:\n",
    "    #        print(\"You fell into the hole. Game Over. \")"
   ]
  },
  {
   "cell_type": "code",
   "execution_count": null,
   "metadata": {},
   "outputs": [],
   "source": []
  }
 ],
 "metadata": {
  "kernelspec": {
   "display_name": "Python 3",
   "language": "python",
   "name": "python3"
  },
  "language_info": {
   "codemirror_mode": {
    "name": "ipython",
    "version": 3
   },
   "file_extension": ".py",
   "mimetype": "text/x-python",
   "name": "python",
   "nbconvert_exporter": "python",
   "pygments_lexer": "ipython3",
   "version": "3.8.3"
  }
 },
 "nbformat": 4,
 "nbformat_minor": 4
}
